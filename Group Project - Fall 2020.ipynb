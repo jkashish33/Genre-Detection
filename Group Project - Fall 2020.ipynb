{
 "cells": [
  {
   "cell_type": "markdown",
   "metadata": {},
   "source": [
    "        Data Science: A Programming Approach\n",
    "        Mahyar S Vaghefi\n",
    "        University of Texas Arlington\n",
    "        \n",
    "        This document can only be used for class studies. \n",
    "        You are not allowed to share it in any public platform."
   ]
  },
  {
   "cell_type": "markdown",
   "metadata": {},
   "source": [
    "<h1 align='center' style=\"color: blue;\">Group Project - Fall 2020</h1>"
   ]
  },
  {
   "cell_type": "markdown",
   "metadata": {},
   "source": [
    "<h1>Group 4(Peach)</h1>\n",
    "<h2>Carlos Jaime: carlos.Jaime@mavs.uta.edu</h2>\n",
    "<h2>Kashish Jain: kashish.jain@mavs.uta.edu</h2>\n",
    "<h2>Tatsat Pandey: tatsat.pandey@mavs.uta.edu</h2>\n",
    "<h2>Sai Sowmith Reddy Chintha: saisowmithreddy.chintha@mavs.uta.edu</h2>"
   ]
  },
  {
   "cell_type": "markdown",
   "metadata": {},
   "source": [
    "You need to work as a team for this project. Your job is to develop a predictive model that can predict whether or not a movie is a <i>Comedy</i>. In order to do so you need to use the textual features of the movie stories and creat your predictive models. There are totally three different files in this project.\n",
    "\n",
    "<ol>\n",
    "    <li><b>movie_story_student_file.csv</b>: This file contains the movie stories that should be used by students for model development.</li>\n",
    "    <li><b>movie_story_evaluation_file.csv</b>: This file should NOT be used for model development purposes. Students should only use this file after developing their predictive models and selecting their best final model. They then need to use their best predictive model and predict whether or not the movies in <b>movie story evaluation file.csv</b> are Comedy.</li>\n",
    "    <li><b>movies.csv</b>: This file contain the movie genres.</li>\n",
    "</ol>"
   ]
  },
  {
   "cell_type": "markdown",
   "metadata": {},
   "source": [
    "<b>Additional Note:</b> This note provides additional guideline for the project."
   ]
  },
  {
   "cell_type": "markdown",
   "metadata": {},
   "source": [
    "<b>Step 1:</b> Explore all files to become familiar with the dataset <br />\n",
    "<b>Step 2:</b> There are 20,000 movies in `movie_story_student_file.csv`file. Use the `movies.csv` file to determine whether a movie is Comedy or not. The final output of this step should be development of a dataframe file that contains three columns: 1) movieId, 2) story, 3) ComedyGenre. The value for the thirrd column should be in a binary format. If the movie is comedy the value should be 1, otherwise 0. Name the new file as `main_dataset`. <br />\n",
    "<b>Step 3:</b> If you want to just have one train and one test set, then split the `main_dataset` to train and test sets. Otherwise you can use cross validation methods.  <br />\n",
    "<b>Step 4:</b> Use your supervised learning and text analysis knowledge to develope different predictive models (i.e. logestic regression, random forest, ...). Test the performance of your models in terms of accuracy, precision, recall, and F1 scores. <br />\n",
    "<b>Step 5:</b> Choose one of your best models (only one). Then use the full data available in `main dataset` to train that model.<br />\n",
    "<b>Step 6:</b> Prepare data in `movie_story_evaluation_file.csv` for prediction. You need to perform the exact same steps that you have done in <b>Step 2</b> to prepare this new dataset. Name the new dataset as `evaluation_dataset`. <br />\n",
    "<b>Step 7:</b> Use your selected model in Step 5 to predict whether or not movies in `evaluation_dataset` are Comedy movies. <br />\n",
    "<b>Step 8:</b> Report the final accuracy, precision, recall and F1 score. <br />"
   ]
  },
  {
   "cell_type": "markdown",
   "metadata": {},
   "source": [
    "Keep in mind that the above steps are only provide guidelines. There are more detail works in this project that should be captured by students. "
   ]
  },
  {
   "cell_type": "markdown",
   "metadata": {},
   "source": [
    "<b>Extra Credit</b> The group with the best prediction model is going to get extra points."
   ]
  },
  {
   "cell_type": "markdown",
   "metadata": {},
   "source": [
    "# Data Pre-Processing"
   ]
  },
  {
   "cell_type": "code",
   "execution_count": 1,
   "metadata": {},
   "outputs": [],
   "source": [
    "import pandas as pd\n",
    "import numpy as np\n",
    "#Reading movie story data into data frame\n",
    "movie_story = pd.read_csv('movie_story_student_file.csv')\n",
    "#Reading the movie genres\n",
    "movies = pd.read_csv('movies.csv')"
   ]
  },
  {
   "cell_type": "code",
   "execution_count": 2,
   "metadata": {},
   "outputs": [],
   "source": [
    "# Classifying if Genre is Comedy or not by 0 and 1\n",
    "test=0\n",
    "test2=[]\n",
    "for x in movies.genres:\n",
    "    if 'Comedy' in x:\n",
    "        test2.append(1)\n",
    "    else:\n",
    "        test2.append(0)\n",
    "movies['ComedyGenre'] = test2"
   ]
  },
  {
   "cell_type": "code",
   "execution_count": 3,
   "metadata": {},
   "outputs": [],
   "source": [
    "# Merging both dataset movies(movies.csv) and movie_story(movie_story_student_file.csv) to create main_dataset\n",
    "main_dataset = pd.merge(movie_story,movies, left_on='movie_id',right_on='movieId', ).drop(['movieId','title','genres'],axis=1)"
   ]
  },
  {
   "cell_type": "code",
   "execution_count": 4,
   "metadata": {},
   "outputs": [],
   "source": [
    "#removing numbers and '\\' from the story column\n",
    "main_dataset['story'] = main_dataset['story'].str.replace('\\d+', '')\n",
    "main_dataset['story'] = main_dataset['story'].str.replace('\\\\', '')\n",
    "\n",
    "# Creting sets for target and the training and testing data\n",
    "descriptions = main_dataset.loc[:,'story']\n",
    "\n",
    "target = main_dataset.loc[:,'ComedyGenre']"
   ]
  },
  {
   "cell_type": "code",
   "execution_count": 5,
   "metadata": {},
   "outputs": [],
   "source": [
    "#word embedding \n",
    "embeddings_index = dict()\n",
    "f = open('glove.6B.300d.txt',encoding=\"utf8\")\n",
    "for line in f:\n",
    "    values = line.split()\n",
    "    word = values[0]\n",
    "    coefs = np.asarray(values[1:], dtype='float32')\n",
    "    embeddings_index[word] = coefs\n",
    "f.close()"
   ]
  },
  {
   "cell_type": "code",
   "execution_count": 6,
   "metadata": {},
   "outputs": [
    {
     "name": "stderr",
     "output_type": "stream",
     "text": [
      "100%|████████████████████████████████████████████████████████████████████████████| 20000/20000 [05:13<00:00, 63.75it/s]\n"
     ]
    }
   ],
   "source": [
    "#sample end, real embedding starts\n",
    "# Compute embeddings for each review:\n",
    "from nltk.tokenize import word_tokenize\n",
    "\n",
    "from nltk.corpus import stopwords\n",
    "\n",
    "from tqdm import tqdm\n",
    "embeddings = []\n",
    "for review in tqdm(descriptions):\n",
    "    #review = review.decode(\"utf-8\")\n",
    "    base_embedding = np.zeros((300,))\n",
    "    word_count = 0\n",
    "    for token in word_tokenize(review):\n",
    "        token = token.lower()\n",
    "        if token in stopwords.words('english'):\n",
    "            continue\n",
    "        try:\n",
    "            base_embedding += embeddings_index[token]\n",
    "            word_count +=1\n",
    "        except:\n",
    "            continue\n",
    "    base_embedding = base_embedding/word_count\n",
    "    embeddings.append(base_embedding)"
   ]
  },
  {
   "cell_type": "code",
   "execution_count": 7,
   "metadata": {},
   "outputs": [
    {
     "data": {
      "text/plain": [
       "(20000, 300)"
      ]
     },
     "execution_count": 7,
     "metadata": {},
     "output_type": "execute_result"
    }
   ],
   "source": [
    "X = np.array(embeddings)\n",
    "X.shape"
   ]
  },
  {
   "cell_type": "markdown",
   "metadata": {},
   "source": [
    "# Training Models"
   ]
  },
  {
   "cell_type": "code",
   "execution_count": 8,
   "metadata": {},
   "outputs": [],
   "source": [
    "# Splitting data for training and testing of models\n",
    "from sklearn.model_selection import train_test_split\n",
    "\n",
    "X_train, X_test, y_train, y_test = train_test_split(X, target, \n",
    "                                                    test_size=0.3, \n",
    "                                                    random_state=0,\n",
    "                                                    stratify = target)"
   ]
  },
  {
   "cell_type": "markdown",
   "metadata": {},
   "source": [
    "<h3>Logistic Regression</h3>"
   ]
  },
  {
   "cell_type": "code",
   "execution_count": 9,
   "metadata": {},
   "outputs": [
    {
     "name": "stdout",
     "output_type": "stream",
     "text": [
      "{'C': 1, 'max_iter': 50}\n"
     ]
    },
    {
     "name": "stderr",
     "output_type": "stream",
     "text": [
      "C:\\Users\\Jain\\anaconda3\\lib\\site-packages\\sklearn\\linear_model\\_logistic.py:762: ConvergenceWarning: lbfgs failed to converge (status=1):\n",
      "STOP: TOTAL NO. of ITERATIONS REACHED LIMIT.\n",
      "\n",
      "Increase the number of iterations (max_iter) or scale the data as shown in:\n",
      "    https://scikit-learn.org/stable/modules/preprocessing.html\n",
      "Please also refer to the documentation for alternative solver options:\n",
      "    https://scikit-learn.org/stable/modules/linear_model.html#logistic-regression\n",
      "  n_iter_i = _check_optimize_result(\n"
     ]
    }
   ],
   "source": [
    "# Getting the best parameters for Logistic Regression model using Grid Search\n",
    "from sklearn.linear_model import LogisticRegression\n",
    "from sklearn.model_selection import GridSearchCV\n",
    "from sklearn.metrics import accuracy_score\n",
    "\n",
    "model_LR=LogisticRegression(max_iter=3000)\n",
    "param_grid={\n",
    "    'C': [1, 0.75, 0.65, 0.5, 0.25, 0.1],\n",
    "    'max_iter':[25, 50, 75, 100, 200]\n",
    "}\n",
    "\n",
    "grid1 = GridSearchCV(model_LR, param_grid, cv=5, scoring='accuracy', n_jobs=-1)\n",
    "grid1.fit(X_train, y_train)\n",
    "print(grid1.best_params_)"
   ]
  },
  {
   "cell_type": "code",
   "execution_count": 10,
   "metadata": {},
   "outputs": [
    {
     "name": "stdout",
     "output_type": "stream",
     "text": [
      "in sample accuracy:(79.42857142857143, 2)\n",
      "Out of sample accuracy:(79.23333333333333, 2)\n"
     ]
    }
   ],
   "source": [
    "# Creating model, predicting, and calculating in-sample and out-sample accuracy\n",
    "\n",
    "#using the best model from grid search cross validation for prediction\n",
    "bestModel = grid1.best_estimator_\n",
    "#predicting the training data\n",
    "y_train_hat = bestModel.predict(X_train)\n",
    "#predicting the test data\n",
    "y_test_hat = bestModel.predict(X_test)\n",
    "#Calculating in-sample and out-sample accuracy\n",
    "print('in sample accuracy:{}'.format((accuracy_score(y_train,y_train_hat) * 100,2)))\n",
    "print('Out of sample accuracy:{}'.format((accuracy_score(y_test,y_test_hat) * 100,2)))"
   ]
  },
  {
   "cell_type": "code",
   "execution_count": 11,
   "metadata": {},
   "outputs": [
    {
     "name": "stdout",
     "output_type": "stream",
     "text": [
      "AUC for log: 0.668\n"
     ]
    },
    {
     "data": {
      "image/png": "[encoded data removed]",
      "text/plain": [
       "<Figure size 432x288 with 1 Axes>"
      ]
     },
     "metadata": {
      "needs_background": "light"
     },
     "output_type": "display_data"
    }
   ],
   "source": [
    "# Plotting ROC curve for Logistic Regression\n",
    "\n",
    "from sklearn.metrics import roc_curve\n",
    "import matplotlib.pyplot as plt\n",
    "from sklearn.metrics import roc_auc_score\n",
    "fpr, tpr, thresholds = roc_curve(y_test, bestModel.predict_proba(X_test)[:,1])\n",
    "plt.plot(fpr, tpr, label=\"ROC Curve\")\n",
    "plt.xlabel(\"FPR\")\n",
    "plt.ylabel(\"TPR (recall)\");\n",
    "\n",
    "log_auc = roc_auc_score(y_test,y_test_hat) \n",
    "print(\"AUC for log: {:.3f}\".format(log_auc))"
   ]
  },
  {
   "cell_type": "code",
   "execution_count": 12,
   "metadata": {},
   "outputs": [
    {
     "name": "stdout",
     "output_type": "stream",
     "text": [
      "Confusion Matrix:\n",
      "[[4114  306]\n",
      " [ 940  640]]\n",
      "Classification Report:\n",
      "              precision    recall  f1-score   support\n",
      "\n",
      "           0       0.81      0.93      0.87      4420\n",
      "           1       0.68      0.41      0.51      1580\n",
      "\n",
      "    accuracy                           0.79      6000\n",
      "   macro avg       0.75      0.67      0.69      6000\n",
      "weighted avg       0.78      0.79      0.77      6000\n",
      "\n"
     ]
    }
   ],
   "source": [
    "# Classification Report and Confusion Matrix\n",
    "from sklearn.metrics import classification_report, confusion_matrix\n",
    "print(\"Confusion Matrix:\")\n",
    "print(confusion_matrix(y_test,y_test_hat))\n",
    "\n",
    "print(\"Classification Report:\")\n",
    "print(classification_report(y_test,y_test_hat))"
   ]
  },
  {
   "cell_type": "code",
   "execution_count": 13,
   "metadata": {},
   "outputs": [
    {
     "data": {
      "image/png": "[encoded data removed]",
      "text/plain": [
       "<Figure size 504x216 with 1 Axes>"
      ]
     },
     "metadata": {
      "needs_background": "light"
     },
     "output_type": "display_data"
    }
   ],
   "source": [
    "#Predicting the probabilities of being the positive class with respect to number of records in each bucket.\n",
    "\n",
    "from sklearn.datasets import make_classification\n",
    "prediction= bestModel.predict_proba(X_test)[:,1]\n",
    "\n",
    "plt.figure(figsize=(7,3))\n",
    "#plt.hist(prediction[y_test==0], bins=50, label='Negatives')\n",
    "plt.hist(prediction[y_test==1], bins=50, label='Positives', alpha=0.7, color='r')\n",
    "plt.xlabel('Probability of being Positive Class', fontsize=12)\n",
    "plt.ylabel('Number of records in each bucket', fontsize=12)\n",
    "plt.legend(fontsize=15)\n",
    "plt.tick_params(axis='both', labelsize=12, pad=5)\n",
    "plt.show()"
   ]
  },
  {
   "cell_type": "markdown",
   "metadata": {},
   "source": [
    "<h3>Stochastic Gradient Descent</h3>"
   ]
  },
  {
   "cell_type": "code",
   "execution_count": 14,
   "metadata": {},
   "outputs": [
    {
     "name": "stdout",
     "output_type": "stream",
     "text": [
      "in sample accuracy:(78.99285714285715, 2)\n",
      "Out of sample accuracy:(78.8, 2)\n"
     ]
    }
   ],
   "source": [
    "# Creating model, predicting, and calculating in-sample and out-sample accuracy\n",
    "from sklearn.linear_model import SGDClassifier\n",
    "#intializing the Stochastic Gradient model\n",
    "modelg = SGDClassifier()\n",
    "#fitting the training data to the model\n",
    "modelg.fit(X_train, y_train)\n",
    "#predicting train and test data with the trained model\n",
    "y_train_hat_g = modelg.predict(X_train)\n",
    "y_test_hat_g = modelg.predict(X_test)\n",
    "#calculating the insample and out of sample accuracy\n",
    "print('in sample accuracy:{}'.format((accuracy_score(y_train,y_train_hat_g) * 100,2)))\n",
    "print('Out of sample accuracy:{}'.format((accuracy_score(y_test,y_test_hat_g) * 100,2)))"
   ]
  },
  {
   "cell_type": "code",
   "execution_count": 15,
   "metadata": {},
   "outputs": [
    {
     "name": "stdout",
     "output_type": "stream",
     "text": [
      "AUC for log: 0.668\n"
     ]
    },
    {
     "data": {
      "image/png": "[encoded data removed]",
      "text/plain": [
       "<Figure size 432x288 with 1 Axes>"
      ]
     },
     "metadata": {
      "needs_background": "light"
     },
     "output_type": "display_data"
    }
   ],
   "source": [
    "# Plotting ROC curve for SGDClassifier\n",
    "fpr, tpr, thresholds = roc_curve(y_test, y_test_hat_g)\n",
    "plt.plot(fpr, tpr, label=\"ROC Curve\")\n",
    "plt.xlabel(\"FPR\")\n",
    "plt.ylabel(\"TPR (recall)\");\n",
    "\n",
    "log_auc = roc_auc_score(y_test,y_test_hat) \n",
    "print(\"AUC for log: {:.3f}\".format(log_auc))"
   ]
  },
  {
   "cell_type": "code",
   "execution_count": 16,
   "metadata": {},
   "outputs": [
    {
     "name": "stdout",
     "output_type": "stream",
     "text": [
      "Confusion Matrix\n",
      "[[4233  187]\n",
      " [1085  495]]\n",
      "Classification Report\n",
      "              precision    recall  f1-score   support\n",
      "\n",
      "           0       0.80      0.96      0.87      4420\n",
      "           1       0.73      0.31      0.44      1580\n",
      "\n",
      "    accuracy                           0.79      6000\n",
      "   macro avg       0.76      0.64      0.65      6000\n",
      "weighted avg       0.78      0.79      0.76      6000\n",
      "\n"
     ]
    }
   ],
   "source": [
    "#calculating Classification Report and Confusion matrix\n",
    "print(\"Confusion Matrix\")\n",
    "print(confusion_matrix(y_test,y_test_hat_g))\n",
    "print(\"Classification Report\")\n",
    "print(classification_report(y_test,y_test_hat_g))"
   ]
  },
  {
   "cell_type": "markdown",
   "metadata": {},
   "source": [
    "<h3>K-Nearest Neighbours</h3>"
   ]
  },
  {
   "cell_type": "code",
   "execution_count": null,
   "metadata": {},
   "outputs": [],
   "source": [
    "# # KNN\n",
    "# from sklearn.neighbors import KNeighborsClassifier\n",
    "# from sklearn.model_selection import StratifiedKFold\n",
    "# #intializing the KNN\n",
    "# KNN_model = KNeighborsClassifier()\n",
    "# #Doing grid search cross validation with n_neighbors.\n",
    "# param_grid = {'n_neighbors': [1,2,3,4,5,6,7,8,9,10,11,12,13,14,15,16,17,18,19,20]}\n",
    "# cv = StratifiedKFold(n_splits=5, random_state=0, shuffle=True)\n",
    "# grid = GridSearchCV(KNN_model, param_grid, cv = cv, scoring='accuracy',\n",
    "#                     return_train_score=True)\n",
    "# #Fitting the training values\n",
    "# grid.fit(X_train, y_train)\n",
    "\n",
    "# print(\"Best Parameter: {}\".format(grid.best_params_))\n",
    "# print(\"Best Cross Vlidation Score: {}\".format(grid.best_score_))"
   ]
  },
  {
   "cell_type": "code",
   "execution_count": 18,
   "metadata": {},
   "outputs": [
    {
     "name": "stdout",
     "output_type": "stream",
     "text": [
      "The in-sample accuracy is 78.97857142857143\n",
      "The out-of-sample accuracy is 77.23333333333333\n"
     ]
    }
   ],
   "source": [
    "# Creating model, predicting, and calculating in-sample and out-sample accuracy\n",
    "from sklearn.neighbors import KNeighborsClassifier\n",
    "#Assigning the best parameter model\n",
    "KNN_model = KNeighborsClassifier(n_neighbors=19)\n",
    "#fitting the training data to the model\n",
    "KNN_model.fit(X_train, y_train)\n",
    "#predict the train and test data\n",
    "y_test_hat_KNN = KNN_model.predict(X_test)\n",
    "y_train_hat_KNN = KNN_model.predict(X_train)\n",
    "#Calculating the insample and out-of-sample accuracy.\n",
    "print('The in-sample accuracy is '+str(accuracy_score(y_train,y_train_hat_KNN, normalize = True) * 100))\n",
    "print('The out-of-sample accuracy is '+str(accuracy_score(y_test,y_test_hat_KNN, normalize = True) * 100))"
   ]
  },
  {
   "cell_type": "code",
   "execution_count": 19,
   "metadata": {},
   "outputs": [
    {
     "name": "stdout",
     "output_type": "stream",
     "text": [
      "AUC for log: 0.607\n"
     ]
    },
    {
     "data": {
      "image/png": "[encoded data removed]",
      "text/plain": [
       "<Figure size 432x288 with 1 Axes>"
      ]
     },
     "metadata": {
      "needs_background": "light"
     },
     "output_type": "display_data"
    }
   ],
   "source": [
    "#plotting the ROC curve for KNN\n",
    "fpr, tpr, thresholds = roc_curve(y_test, KNN_model.predict_proba(X_test)[:,1])\n",
    "plt.plot(fpr, tpr, label=\"ROC Curve\")\n",
    "plt.xlabel(\"FPR\")\n",
    "plt.ylabel(\"TPR (recall)\");\n",
    "\n",
    "log_auc = roc_auc_score(y_test,y_test_hat_KNN) \n",
    "print(\"AUC for log: {:.3f}\".format(log_auc))"
   ]
  },
  {
   "cell_type": "code",
   "execution_count": 20,
   "metadata": {},
   "outputs": [
    {
     "name": "stdout",
     "output_type": "stream",
     "text": [
      "Confusion Matrix\n",
      "[[4226  194]\n",
      " [1172  408]]\n",
      "Classification Report\n",
      "              precision    recall  f1-score   support\n",
      "\n",
      "           0       0.78      0.96      0.86      4420\n",
      "           1       0.68      0.26      0.37      1580\n",
      "\n",
      "    accuracy                           0.77      6000\n",
      "   macro avg       0.73      0.61      0.62      6000\n",
      "weighted avg       0.76      0.77      0.73      6000\n",
      "\n"
     ]
    }
   ],
   "source": [
    "# Classification report and Confusion matrix\n",
    "print(\"Confusion Matrix\")\n",
    "print(confusion_matrix(y_test,y_test_hat_KNN))\n",
    "print(\"Classification Report\")\n",
    "print(classification_report(y_test,y_test_hat_KNN))"
   ]
  },
  {
   "cell_type": "code",
   "execution_count": 21,
   "metadata": {},
   "outputs": [
    {
     "data": {
      "image/png": "[encoded data removed]",
      "text/plain": [
       "<Figure size 504x216 with 1 Axes>"
      ]
     },
     "metadata": {
      "needs_background": "light"
     },
     "output_type": "display_data"
    }
   ],
   "source": [
    "prediction= KNN_model.predict_proba(X_test)[:,1]\n",
    "\n",
    "plt.figure(figsize=(7,3))\n",
    "#plt.hist(prediction[y_test==0], bins=50, label='Negatives')\n",
    "plt.hist(prediction[y_test==1], bins=50, label='Positives', alpha=0.7, color='r')\n",
    "plt.xlabel('Probability of being Positive Class', fontsize=12)\n",
    "plt.ylabel('Number of records in each bucket', fontsize=12)\n",
    "plt.legend(fontsize=15)\n",
    "plt.tick_params(axis='both', labelsize=12, pad=5)\n",
    "plt.show()"
   ]
  },
  {
   "cell_type": "markdown",
   "metadata": {},
   "source": [
    "<h3>Decision Tree</h3>"
   ]
  },
  {
   "cell_type": "code",
   "execution_count": 23,
   "metadata": {},
   "outputs": [
    {
     "name": "stdout",
     "output_type": "stream",
     "text": [
      "Best Parameter: {'max_depth': 4}\n"
     ]
    }
   ],
   "source": [
    "#DECISION TREE\n",
    "from sklearn.tree import DecisionTreeClassifier, export_graphviz\n",
    "from sklearn.model_selection import StratifiedKFold\n",
    "# Initialized the model to decision tree classifier\n",
    "model= DecisionTreeClassifier()\n",
    "# depth is set in the range of 2 to 15\n",
    "param_grid = {'max_depth': np.arange(2, 15)}\n",
    "#initialized the cross validation with 5 equal parts \n",
    "cv = StratifiedKFold(n_splits=5, random_state=0, shuffle=True)\n",
    "# fitting grid search by selecting accuracy as the metric.\n",
    "grid = GridSearchCV(model, param_grid, cv = cv, \n",
    "                    return_train_score=True, scoring='accuracy', n_jobs=-1)\n",
    "grid.fit(X_train, y_train)\n",
    "#printing best parameters\n",
    "print(\"Best Parameter: {}\".format(grid.best_params_))"
   ]
  },
  {
   "cell_type": "code",
   "execution_count": 24,
   "metadata": {},
   "outputs": [
    {
     "name": "stdout",
     "output_type": "stream",
     "text": [
      "The in-sample accuracy is 74.91428571428571\n",
      "The out-of-sample accuracy is 74.01666666666667\n"
     ]
    }
   ],
   "source": [
    "# Creating model, predicting, and calculating in-sample and out-sample accuracy\n",
    "#fitted decision tree with depth of 4\n",
    "dtc = DecisionTreeClassifier(max_depth=4)\n",
    "dtc.fit(X_train, y_train)\n",
    "#predicting output for train data\n",
    "dy_train_hat = dtc.predict(X_train)\n",
    "#predicting output for test data\n",
    "dy_test_hat = dtc.predict(X_test)\n",
    "print('The in-sample accuracy is '+str(accuracy_score(y_train,dy_train_hat, normalize = True) * 100))\n",
    "print('The out-of-sample accuracy is '+str(accuracy_score(y_test,dy_test_hat, normalize = True) * 100))"
   ]
  },
  {
   "cell_type": "code",
   "execution_count": 25,
   "metadata": {},
   "outputs": [
    {
     "name": "stdout",
     "output_type": "stream",
     "text": [
      "AUC for log: 0.545\n"
     ]
    },
    {
     "data": {
      "image/png": "[encoded data removed]",
      "text/plain": [
       "<Figure size 432x288 with 1 Axes>"
      ]
     },
     "metadata": {
      "needs_background": "light"
     },
     "output_type": "display_data"
    }
   ],
   "source": [
    "#plotting the ROC curve for Decision Tree\n",
    "fpr, tpr, thresholds = roc_curve(y_test, dtc.predict_proba(X_test)[:,1])\n",
    "plt.plot(fpr, tpr, label=\"ROC Curve\")\n",
    "plt.xlabel(\"FPR\")\n",
    "plt.ylabel(\"TPR (recall)\");\n",
    "\n",
    "log_auc = roc_auc_score(y_test,dy_test_hat) \n",
    "print(\"AUC for log: {:.3f}\".format(log_auc))"
   ]
  },
  {
   "cell_type": "code",
   "execution_count": 26,
   "metadata": {},
   "outputs": [
    {
     "name": "stdout",
     "output_type": "stream",
     "text": [
      "Confusion Matrix\n",
      "[[4229  191]\n",
      " [1368  212]]\n",
      "Classification report\n",
      "              precision    recall  f1-score   support\n",
      "\n",
      "           0       0.76      0.96      0.84      4420\n",
      "           1       0.53      0.13      0.21      1580\n",
      "\n",
      "    accuracy                           0.74      6000\n",
      "   macro avg       0.64      0.55      0.53      6000\n",
      "weighted avg       0.70      0.74      0.68      6000\n",
      "\n"
     ]
    }
   ],
   "source": [
    "#calculating Classification report and confusion matrix\n",
    "print(\"Confusion Matrix\")\n",
    "print(confusion_matrix(y_test,dy_test_hat))\n",
    "print(\"Classification report\")\n",
    "print(classification_report(y_test,dy_test_hat))"
   ]
  },
  {
   "cell_type": "code",
   "execution_count": 27,
   "metadata": {},
   "outputs": [
    {
     "data": {
      "image/png": "[encoded data removed]",
      "text/plain": [
       "<Figure size 504x216 with 1 Axes>"
      ]
     },
     "metadata": {
      "needs_background": "light"
     },
     "output_type": "display_data"
    }
   ],
   "source": [
    "prediction= dtc.predict_proba(X_test)[:,1]\n",
    "\n",
    "plt.figure(figsize=(7,3))\n",
    "#plt.hist(prediction[y_test==0], bins=50, label='Negatives')\n",
    "plt.hist(prediction[y_test==1], bins=50, label='Positives', alpha=0.7, color='r')\n",
    "plt.xlabel('Probability of being Positive Class', fontsize=12)\n",
    "plt.ylabel('Number of records in each bucket', fontsize=12)\n",
    "plt.legend(fontsize=15)\n",
    "plt.tick_params(axis='both', labelsize=12, pad=5)\n",
    "plt.show()"
   ]
  },
  {
   "cell_type": "markdown",
   "metadata": {},
   "source": [
    "<h3>Random Forest Classifier</h3>"
   ]
  },
  {
   "cell_type": "code",
   "execution_count": 28,
   "metadata": {},
   "outputs": [
    {
     "name": "stdout",
     "output_type": "stream",
     "text": [
      "The in-sample accuracy is 99.52142857142857\n",
      "The out-of-sample accuracy is 76.0\n"
     ]
    }
   ],
   "source": [
    "# Creating model, predicting, and calculating in-sample and out-sample accuracy\n",
    "\n",
    "from sklearn.ensemble import RandomForestClassifier\n",
    "#Trained data with random forest\n",
    "bag = RandomForestClassifier(random_state=0,min_samples_split=7,min_samples_leaf=2)\n",
    "bag.fit(X_train,y_train)\n",
    "#predicting output for train data\n",
    "ry_train_hat = bag.predict(X_train)\n",
    "#predicting output for test data\n",
    "ry_test_hat = bag.predict(X_test)\n",
    "print('The in-sample accuracy is '+str(accuracy_score(y_train,ry_train_hat, normalize = True) * 100))\n",
    "print('The out-of-sample accuracy is '+str(accuracy_score(y_test,ry_test_hat, normalize = True) * 100))"
   ]
  },
  {
   "cell_type": "code",
   "execution_count": 29,
   "metadata": {},
   "outputs": [
    {
     "name": "stdout",
     "output_type": "stream",
     "text": [
      "AUC for log: 0.561\n"
     ]
    },
    {
     "data": {
      "image/png": "[encoded data removed]",
      "text/plain": [
       "<Figure size 432x288 with 1 Axes>"
      ]
     },
     "metadata": {
      "needs_background": "light"
     },
     "output_type": "display_data"
    }
   ],
   "source": [
    "#plotting the ROC curve for Random Forest Classifier\n",
    "fpr, tpr, thresholds = roc_curve(y_test, bag.predict_proba(X_test)[:,1])\n",
    "plt.plot(fpr, tpr, label=\"ROC Curve\")\n",
    "plt.xlabel(\"FPR\")\n",
    "plt.ylabel(\"TPR (recall)\");\n",
    "\n",
    "log_auc = roc_auc_score(y_test,ry_test_hat) \n",
    "print(\"AUC for log: {:.3f}\".format(log_auc))"
   ]
  },
  {
   "cell_type": "code",
   "execution_count": 30,
   "metadata": {},
   "outputs": [
    {
     "name": "stdout",
     "output_type": "stream",
     "text": [
      "Confusion Matrix\n",
      "[[4336   84]\n",
      " [1356  224]]\n",
      "Classification report\n",
      "              precision    recall  f1-score   support\n",
      "\n",
      "           0       0.76      0.98      0.86      4420\n",
      "           1       0.73      0.14      0.24      1580\n",
      "\n",
      "    accuracy                           0.76      6000\n",
      "   macro avg       0.74      0.56      0.55      6000\n",
      "weighted avg       0.75      0.76      0.69      6000\n",
      "\n"
     ]
    }
   ],
   "source": [
    "#calculating Classification report and confusion matrix\n",
    "print(\"Confusion Matrix\")\n",
    "print(confusion_matrix(y_test,ry_test_hat))\n",
    "print(\"Classification report\")\n",
    "print(classification_report(y_test,ry_test_hat))"
   ]
  },
  {
   "cell_type": "code",
   "execution_count": 31,
   "metadata": {},
   "outputs": [
    {
     "data": {
      "image/png": "[encoded data removed]",
      "text/plain": [
       "<Figure size 504x216 with 1 Axes>"
      ]
     },
     "metadata": {
      "needs_background": "light"
     },
     "output_type": "display_data"
    }
   ],
   "source": [
    "prediction= bag.predict_proba(X_test)[:,1]\n",
    "\n",
    "plt.figure(figsize=(7,3))\n",
    "#plt.hist(prediction[y_test==0], bins=50, label='Negatives')\n",
    "plt.hist(prediction[y_test==1], bins=50, label='Positives', alpha=0.7, color='r')\n",
    "plt.xlabel('Probability of being Positive Class', fontsize=12)\n",
    "plt.ylabel('Number of records in each bucket', fontsize=12)\n",
    "plt.legend(fontsize=15)\n",
    "plt.tick_params(axis='both', labelsize=12, pad=5)\n",
    "plt.show()"
   ]
  },
  {
   "cell_type": "markdown",
   "metadata": {},
   "source": [
    "# Data Preprocessing for Evaluation Dataset"
   ]
  },
  {
   "cell_type": "code",
   "execution_count": 32,
   "metadata": {},
   "outputs": [],
   "source": [
    "#Readigng evaluation data set\n",
    "eval_dataset = pd.read_csv('movie_story_evaluation_file.csv')\n",
    "eval_dataset\n",
    "# Reading movie dataset\n",
    "movies=pd.read_csv('movies.csv')"
   ]
  },
  {
   "cell_type": "code",
   "execution_count": 33,
   "metadata": {},
   "outputs": [
    {
     "data": {
      "text/html": [
       "<div>\n",
       "<style scoped>\n",
       "    .dataframe tbody tr th:only-of-type {\n",
       "        vertical-align: middle;\n",
       "    }\n",
       "\n",
       "    .dataframe tbody tr th {\n",
       "        vertical-align: top;\n",
       "    }\n",
       "\n",
       "    .dataframe thead th {\n",
       "        text-align: right;\n",
       "    }\n",
       "</style>\n",
       "<table border=\"1\" class=\"dataframe\">\n",
       "  <thead>\n",
       "    <tr style=\"text-align: right;\">\n",
       "      <th></th>\n",
       "      <th>movie_id</th>\n",
       "      <th>story</th>\n",
       "      <th>genres</th>\n",
       "    </tr>\n",
       "  </thead>\n",
       "  <tbody>\n",
       "    <tr>\n",
       "      <th>0</th>\n",
       "      <td>122349</td>\n",
       "      <td>Growing up in the Mission district of San Fran...</td>\n",
       "      <td>Drama</td>\n",
       "    </tr>\n",
       "    <tr>\n",
       "      <th>1</th>\n",
       "      <td>122351</td>\n",
       "      <td>A soldier returns home from the Iraq war only ...</td>\n",
       "      <td>Horror|Thriller</td>\n",
       "    </tr>\n",
       "    <tr>\n",
       "      <th>2</th>\n",
       "      <td>122361</td>\n",
       "      <td>Marco the Monkey works as a beach officer. But...</td>\n",
       "      <td>Animation|Children|Comedy</td>\n",
       "    </tr>\n",
       "    <tr>\n",
       "      <th>3</th>\n",
       "      <td>187901</td>\n",
       "      <td>When an honest cop, Vijay Kumar\\'s family is r...</td>\n",
       "      <td>Action|Romance</td>\n",
       "    </tr>\n",
       "    <tr>\n",
       "      <th>4</th>\n",
       "      <td>187903</td>\n",
       "      <td>Kathiresan aka Kaththi, a criminal, escapes fr...</td>\n",
       "      <td>Action|Drama|Romance</td>\n",
       "    </tr>\n",
       "    <tr>\n",
       "      <th>...</th>\n",
       "      <td>...</td>\n",
       "      <td>...</td>\n",
       "      <td>...</td>\n",
       "    </tr>\n",
       "    <tr>\n",
       "      <th>3493</th>\n",
       "      <td>131062</td>\n",
       "      <td>In the middle of nowhere, 20 years after an ap...</td>\n",
       "      <td>Drama|Fantasy|Sci-Fi</td>\n",
       "    </tr>\n",
       "    <tr>\n",
       "      <th>3494</th>\n",
       "      <td>131064</td>\n",
       "      <td>After living for years as a struggling artist ...</td>\n",
       "      <td>Comedy</td>\n",
       "    </tr>\n",
       "    <tr>\n",
       "      <th>3495</th>\n",
       "      <td>131066</td>\n",
       "      <td>Ronal is a young barbarian with low self-estee...</td>\n",
       "      <td>Adventure|Animation|Fantasy</td>\n",
       "    </tr>\n",
       "    <tr>\n",
       "      <th>3496</th>\n",
       "      <td>131068</td>\n",
       "      <td>Ziege, H\\xc3\\xa4schen and Max have now moved t...</td>\n",
       "      <td>Comedy</td>\n",
       "    </tr>\n",
       "    <tr>\n",
       "      <th>3497</th>\n",
       "      <td>131070</td>\n",
       "      <td>During their childhood, Hanna and Clarissa wer...</td>\n",
       "      <td>Drama|Mystery|Thriller</td>\n",
       "    </tr>\n",
       "  </tbody>\n",
       "</table>\n",
       "<p>3498 rows × 3 columns</p>\n",
       "</div>"
      ],
      "text/plain": [
       "      movie_id                                              story  \\\n",
       "0       122349  Growing up in the Mission district of San Fran...   \n",
       "1       122351  A soldier returns home from the Iraq war only ...   \n",
       "2       122361  Marco the Monkey works as a beach officer. But...   \n",
       "3       187901  When an honest cop, Vijay Kumar\\'s family is r...   \n",
       "4       187903  Kathiresan aka Kaththi, a criminal, escapes fr...   \n",
       "...        ...                                                ...   \n",
       "3493    131062  In the middle of nowhere, 20 years after an ap...   \n",
       "3494    131064  After living for years as a struggling artist ...   \n",
       "3495    131066  Ronal is a young barbarian with low self-estee...   \n",
       "3496    131068  Ziege, H\\xc3\\xa4schen and Max have now moved t...   \n",
       "3497    131070  During their childhood, Hanna and Clarissa wer...   \n",
       "\n",
       "                           genres  \n",
       "0                           Drama  \n",
       "1                 Horror|Thriller  \n",
       "2       Animation|Children|Comedy  \n",
       "3                  Action|Romance  \n",
       "4            Action|Drama|Romance  \n",
       "...                           ...  \n",
       "3493         Drama|Fantasy|Sci-Fi  \n",
       "3494                       Comedy  \n",
       "3495  Adventure|Animation|Fantasy  \n",
       "3496                       Comedy  \n",
       "3497       Drama|Mystery|Thriller  \n",
       "\n",
       "[3498 rows x 3 columns]"
      ]
     },
     "execution_count": 33,
     "metadata": {},
     "output_type": "execute_result"
    }
   ],
   "source": [
    "#Merging the genres and evaluation story dataset on movieid.\n",
    "eval_dataset = pd.merge(eval_dataset,movies, left_on='movie_id',right_on='movieId', ).drop(['movieId','title'],axis=1)\n",
    "eval_dataset"
   ]
  },
  {
   "cell_type": "code",
   "execution_count": 34,
   "metadata": {},
   "outputs": [
    {
     "data": {
      "text/html": [
       "<div>\n",
       "<style scoped>\n",
       "    .dataframe tbody tr th:only-of-type {\n",
       "        vertical-align: middle;\n",
       "    }\n",
       "\n",
       "    .dataframe tbody tr th {\n",
       "        vertical-align: top;\n",
       "    }\n",
       "\n",
       "    .dataframe thead th {\n",
       "        text-align: right;\n",
       "    }\n",
       "</style>\n",
       "<table border=\"1\" class=\"dataframe\">\n",
       "  <thead>\n",
       "    <tr style=\"text-align: right;\">\n",
       "      <th></th>\n",
       "      <th>movie_id</th>\n",
       "      <th>story</th>\n",
       "      <th>genres</th>\n",
       "      <th>ComedyGenre2</th>\n",
       "    </tr>\n",
       "  </thead>\n",
       "  <tbody>\n",
       "    <tr>\n",
       "      <th>0</th>\n",
       "      <td>122349</td>\n",
       "      <td>Growing up in the Mission district of San Fran...</td>\n",
       "      <td>Drama</td>\n",
       "      <td>0</td>\n",
       "    </tr>\n",
       "    <tr>\n",
       "      <th>1</th>\n",
       "      <td>122351</td>\n",
       "      <td>A soldier returns home from the Iraq war only ...</td>\n",
       "      <td>Horror|Thriller</td>\n",
       "      <td>0</td>\n",
       "    </tr>\n",
       "    <tr>\n",
       "      <th>2</th>\n",
       "      <td>122361</td>\n",
       "      <td>Marco the Monkey works as a beach officer. But...</td>\n",
       "      <td>Animation|Children|Comedy</td>\n",
       "      <td>1</td>\n",
       "    </tr>\n",
       "    <tr>\n",
       "      <th>3</th>\n",
       "      <td>187901</td>\n",
       "      <td>When an honest cop, Vijay Kumar\\'s family is r...</td>\n",
       "      <td>Action|Romance</td>\n",
       "      <td>0</td>\n",
       "    </tr>\n",
       "    <tr>\n",
       "      <th>4</th>\n",
       "      <td>187903</td>\n",
       "      <td>Kathiresan aka Kaththi, a criminal, escapes fr...</td>\n",
       "      <td>Action|Drama|Romance</td>\n",
       "      <td>0</td>\n",
       "    </tr>\n",
       "    <tr>\n",
       "      <th>...</th>\n",
       "      <td>...</td>\n",
       "      <td>...</td>\n",
       "      <td>...</td>\n",
       "      <td>...</td>\n",
       "    </tr>\n",
       "    <tr>\n",
       "      <th>3493</th>\n",
       "      <td>131062</td>\n",
       "      <td>In the middle of nowhere, 20 years after an ap...</td>\n",
       "      <td>Drama|Fantasy|Sci-Fi</td>\n",
       "      <td>0</td>\n",
       "    </tr>\n",
       "    <tr>\n",
       "      <th>3494</th>\n",
       "      <td>131064</td>\n",
       "      <td>After living for years as a struggling artist ...</td>\n",
       "      <td>Comedy</td>\n",
       "      <td>1</td>\n",
       "    </tr>\n",
       "    <tr>\n",
       "      <th>3495</th>\n",
       "      <td>131066</td>\n",
       "      <td>Ronal is a young barbarian with low self-estee...</td>\n",
       "      <td>Adventure|Animation|Fantasy</td>\n",
       "      <td>0</td>\n",
       "    </tr>\n",
       "    <tr>\n",
       "      <th>3496</th>\n",
       "      <td>131068</td>\n",
       "      <td>Ziege, H\\xc3\\xa4schen and Max have now moved t...</td>\n",
       "      <td>Comedy</td>\n",
       "      <td>1</td>\n",
       "    </tr>\n",
       "    <tr>\n",
       "      <th>3497</th>\n",
       "      <td>131070</td>\n",
       "      <td>During their childhood, Hanna and Clarissa wer...</td>\n",
       "      <td>Drama|Mystery|Thriller</td>\n",
       "      <td>0</td>\n",
       "    </tr>\n",
       "  </tbody>\n",
       "</table>\n",
       "<p>3498 rows × 4 columns</p>\n",
       "</div>"
      ],
      "text/plain": [
       "      movie_id                                              story  \\\n",
       "0       122349  Growing up in the Mission district of San Fran...   \n",
       "1       122351  A soldier returns home from the Iraq war only ...   \n",
       "2       122361  Marco the Monkey works as a beach officer. But...   \n",
       "3       187901  When an honest cop, Vijay Kumar\\'s family is r...   \n",
       "4       187903  Kathiresan aka Kaththi, a criminal, escapes fr...   \n",
       "...        ...                                                ...   \n",
       "3493    131062  In the middle of nowhere, 20 years after an ap...   \n",
       "3494    131064  After living for years as a struggling artist ...   \n",
       "3495    131066  Ronal is a young barbarian with low self-estee...   \n",
       "3496    131068  Ziege, H\\xc3\\xa4schen and Max have now moved t...   \n",
       "3497    131070  During their childhood, Hanna and Clarissa wer...   \n",
       "\n",
       "                           genres  ComedyGenre2  \n",
       "0                           Drama             0  \n",
       "1                 Horror|Thriller             0  \n",
       "2       Animation|Children|Comedy             1  \n",
       "3                  Action|Romance             0  \n",
       "4            Action|Drama|Romance             0  \n",
       "...                           ...           ...  \n",
       "3493         Drama|Fantasy|Sci-Fi             0  \n",
       "3494                       Comedy             1  \n",
       "3495  Adventure|Animation|Fantasy             0  \n",
       "3496                       Comedy             1  \n",
       "3497       Drama|Mystery|Thriller             0  \n",
       "\n",
       "[3498 rows x 4 columns]"
      ]
     },
     "execution_count": 34,
     "metadata": {},
     "output_type": "execute_result"
    }
   ],
   "source": [
    "#Assigning labels 0 or 1 for the evalution stories \n",
    "test=0\n",
    "test2=[]\n",
    "for x in eval_dataset.genres:\n",
    "    if 'Comedy' in x:\n",
    "        test2.append(1)\n",
    "    else:\n",
    "        test2.append(0)\n",
    "        \n",
    "eval_dataset['ComedyGenre2'] = test2\n",
    "\n",
    "eval_dataset"
   ]
  },
  {
   "cell_type": "code",
   "execution_count": 35,
   "metadata": {},
   "outputs": [
    {
     "data": {
      "text/html": [
       "<div>\n",
       "<style scoped>\n",
       "    .dataframe tbody tr th:only-of-type {\n",
       "        vertical-align: middle;\n",
       "    }\n",
       "\n",
       "    .dataframe tbody tr th {\n",
       "        vertical-align: top;\n",
       "    }\n",
       "\n",
       "    .dataframe thead th {\n",
       "        text-align: right;\n",
       "    }\n",
       "</style>\n",
       "<table border=\"1\" class=\"dataframe\">\n",
       "  <thead>\n",
       "    <tr style=\"text-align: right;\">\n",
       "      <th></th>\n",
       "      <th>movie_id</th>\n",
       "      <th>story</th>\n",
       "      <th>genres</th>\n",
       "      <th>ComedyGenre2</th>\n",
       "    </tr>\n",
       "  </thead>\n",
       "  <tbody>\n",
       "    <tr>\n",
       "      <th>0</th>\n",
       "      <td>122349</td>\n",
       "      <td>Growing up in the Mission district of San Fran...</td>\n",
       "      <td>Drama</td>\n",
       "      <td>0</td>\n",
       "    </tr>\n",
       "    <tr>\n",
       "      <th>1</th>\n",
       "      <td>122351</td>\n",
       "      <td>A soldier returns home from the Iraq war only ...</td>\n",
       "      <td>Horror|Thriller</td>\n",
       "      <td>0</td>\n",
       "    </tr>\n",
       "    <tr>\n",
       "      <th>2</th>\n",
       "      <td>122361</td>\n",
       "      <td>Marco the Monkey works as a beach officer. But...</td>\n",
       "      <td>Animation|Children|Comedy</td>\n",
       "      <td>1</td>\n",
       "    </tr>\n",
       "    <tr>\n",
       "      <th>3</th>\n",
       "      <td>187901</td>\n",
       "      <td>When an honest cop, Vijay Kumar's family is ru...</td>\n",
       "      <td>Action|Romance</td>\n",
       "      <td>0</td>\n",
       "    </tr>\n",
       "    <tr>\n",
       "      <th>4</th>\n",
       "      <td>187903</td>\n",
       "      <td>Kathiresan aka Kaththi, a criminal, escapes fr...</td>\n",
       "      <td>Action|Drama|Romance</td>\n",
       "      <td>0</td>\n",
       "    </tr>\n",
       "    <tr>\n",
       "      <th>...</th>\n",
       "      <td>...</td>\n",
       "      <td>...</td>\n",
       "      <td>...</td>\n",
       "      <td>...</td>\n",
       "    </tr>\n",
       "    <tr>\n",
       "      <th>3493</th>\n",
       "      <td>131062</td>\n",
       "      <td>In the middle of nowhere,  years after an apoc...</td>\n",
       "      <td>Drama|Fantasy|Sci-Fi</td>\n",
       "      <td>0</td>\n",
       "    </tr>\n",
       "    <tr>\n",
       "      <th>3494</th>\n",
       "      <td>131064</td>\n",
       "      <td>After living for years as a struggling artist ...</td>\n",
       "      <td>Comedy</td>\n",
       "      <td>1</td>\n",
       "    </tr>\n",
       "    <tr>\n",
       "      <th>3495</th>\n",
       "      <td>131066</td>\n",
       "      <td>Ronal is a young barbarian with low self-estee...</td>\n",
       "      <td>Adventure|Animation|Fantasy</td>\n",
       "      <td>0</td>\n",
       "    </tr>\n",
       "    <tr>\n",
       "      <th>3496</th>\n",
       "      <td>131068</td>\n",
       "      <td>Ziege, Hxcxaschen and Max have now moved to Be...</td>\n",
       "      <td>Comedy</td>\n",
       "      <td>1</td>\n",
       "    </tr>\n",
       "    <tr>\n",
       "      <th>3497</th>\n",
       "      <td>131070</td>\n",
       "      <td>During their childhood, Hanna and Clarissa wer...</td>\n",
       "      <td>Drama|Mystery|Thriller</td>\n",
       "      <td>0</td>\n",
       "    </tr>\n",
       "  </tbody>\n",
       "</table>\n",
       "<p>3498 rows × 4 columns</p>\n",
       "</div>"
      ],
      "text/plain": [
       "      movie_id                                              story  \\\n",
       "0       122349  Growing up in the Mission district of San Fran...   \n",
       "1       122351  A soldier returns home from the Iraq war only ...   \n",
       "2       122361  Marco the Monkey works as a beach officer. But...   \n",
       "3       187901  When an honest cop, Vijay Kumar's family is ru...   \n",
       "4       187903  Kathiresan aka Kaththi, a criminal, escapes fr...   \n",
       "...        ...                                                ...   \n",
       "3493    131062  In the middle of nowhere,  years after an apoc...   \n",
       "3494    131064  After living for years as a struggling artist ...   \n",
       "3495    131066  Ronal is a young barbarian with low self-estee...   \n",
       "3496    131068  Ziege, Hxcxaschen and Max have now moved to Be...   \n",
       "3497    131070  During their childhood, Hanna and Clarissa wer...   \n",
       "\n",
       "                           genres  ComedyGenre2  \n",
       "0                           Drama             0  \n",
       "1                 Horror|Thriller             0  \n",
       "2       Animation|Children|Comedy             1  \n",
       "3                  Action|Romance             0  \n",
       "4            Action|Drama|Romance             0  \n",
       "...                           ...           ...  \n",
       "3493         Drama|Fantasy|Sci-Fi             0  \n",
       "3494                       Comedy             1  \n",
       "3495  Adventure|Animation|Fantasy             0  \n",
       "3496                       Comedy             1  \n",
       "3497       Drama|Mystery|Thriller             0  \n",
       "\n",
       "[3498 rows x 4 columns]"
      ]
     },
     "execution_count": 35,
     "metadata": {},
     "output_type": "execute_result"
    }
   ],
   "source": [
    "#Removing any digits and '\\' present\n",
    "eval_dataset['story'] = eval_dataset['story'].str.replace('\\d+', '')\n",
    "eval_dataset['story'] = eval_dataset['story'].str.replace('\\\\', '')\n",
    "\n",
    "descriptions2 = eval_dataset.loc[:,'story']\n",
    "\n",
    "target2 = eval_dataset.loc[:,'ComedyGenre2']\n",
    "eval_dataset"
   ]
  },
  {
   "cell_type": "code",
   "execution_count": 36,
   "metadata": {},
   "outputs": [
    {
     "name": "stderr",
     "output_type": "stream",
     "text": [
      "100%|██████████████████████████████████████████████████████████████████████████████| 3498/3498 [01:00<00:00, 58.00it/s]\n"
     ]
    }
   ],
   "source": [
    "#sample end, real embedding starts\n",
    "# Compute embeddings for each review:\n",
    "from nltk.tokenize import word_tokenize\n",
    "\n",
    "from nltk.corpus import stopwords\n",
    "\n",
    "from tqdm import tqdm\n",
    "embeddings2 = []\n",
    "for review in tqdm(descriptions2):\n",
    "    #review = review.decode(\"utf-8\")\n",
    "    base_embedding = np.zeros((300,))\n",
    "    word_count = 0\n",
    "    for token in word_tokenize(review):\n",
    "        token = token.lower()\n",
    "        if token in stopwords.words('english'):\n",
    "            continue\n",
    "        try:\n",
    "            base_embedding += embeddings_index[token]\n",
    "            word_count +=1\n",
    "        except:\n",
    "            continue\n",
    "    base_embedding = base_embedding/word_count\n",
    "    embeddings2.append(base_embedding)"
   ]
  },
  {
   "cell_type": "code",
   "execution_count": 37,
   "metadata": {},
   "outputs": [
    {
     "data": {
      "text/plain": [
       "(3498, 300)"
      ]
     },
     "execution_count": 37,
     "metadata": {},
     "output_type": "execute_result"
    }
   ],
   "source": [
    "X2 = np.array(embeddings2)\n",
    "X2.shape"
   ]
  },
  {
   "cell_type": "markdown",
   "metadata": {},
   "source": [
    "# Testing Evaluation dataset using Best model i.e., Logistic Regression"
   ]
  },
  {
   "cell_type": "code",
   "execution_count": 38,
   "metadata": {},
   "outputs": [
    {
     "name": "stdout",
     "output_type": "stream",
     "text": [
      "Out of sample accuracy:79.70268724985706\n"
     ]
    }
   ],
   "source": [
    "#predicting the labels of the evalution story dataset\n",
    "model_eval = grid1.best_estimator_\n",
    "y_test_hat2 = model_eval.predict(X2)\n",
    "#Calculating Accuracy\n",
    "print('Out of sample accuracy:{}'.format((accuracy_score(target2 , y_test_hat2) * 100)))"
   ]
  },
  {
   "cell_type": "code",
   "execution_count": 39,
   "metadata": {},
   "outputs": [
    {
     "name": "stdout",
     "output_type": "stream",
     "text": [
      "AUC for log: 0.663\n"
     ]
    },
    {
     "data": {
      "image/png": "[encoded data removed]",
      "text/plain": [
       "<Figure size 432x288 with 1 Axes>"
      ]
     },
     "metadata": {
      "needs_background": "light"
     },
     "output_type": "display_data"
    }
   ],
   "source": [
    "# Plotting the ROC curve for Eval Dataset\n",
    "fpr, tpr, thresholds = roc_curve(y_test, model_eval.predict_proba(X_test)[:,1])\n",
    "plt.plot(fpr, tpr, label=\"ROC Curve\")\n",
    "plt.xlabel(\"FPR\")\n",
    "plt.ylabel(\"TPR (recall)\");\n",
    "\n",
    "log_auc = roc_auc_score(target2, y_test_hat2) \n",
    "print(\"AUC for log: {:.3f}\".format(log_auc))"
   ]
  },
  {
   "cell_type": "code",
   "execution_count": 40,
   "metadata": {},
   "outputs": [
    {
     "name": "stdout",
     "output_type": "stream",
     "text": [
      "Confusion Matrix\n",
      "[[2443  180]\n",
      " [ 530  345]]\n",
      "Classification report\n",
      "              precision    recall  f1-score   support\n",
      "\n",
      "           0       0.82      0.93      0.87      2623\n",
      "           1       0.66      0.39      0.49       875\n",
      "\n",
      "    accuracy                           0.80      3498\n",
      "   macro avg       0.74      0.66      0.68      3498\n",
      "weighted avg       0.78      0.80      0.78      3498\n",
      "\n"
     ]
    }
   ],
   "source": [
    "#calculating Classification report and confusion matrix\n",
    "print(\"Confusion Matrix\")\n",
    "print(confusion_matrix(target2,y_test_hat2))\n",
    "print(\"Classification report\")\n",
    "print(classification_report(target2,y_test_hat2))"
   ]
  },
  {
   "cell_type": "code",
   "execution_count": 41,
   "metadata": {},
   "outputs": [
    {
     "data": {
      "image/png": "[encoded data removed]",
      "text/plain": [
       "<Figure size 504x216 with 1 Axes>"
      ]
     },
     "metadata": {
      "needs_background": "light"
     },
     "output_type": "display_data"
    }
   ],
   "source": [
    "prediction= model_eval.predict_proba(X_test)[:,1]\n",
    "\n",
    "plt.figure(figsize=(7,3))\n",
    "#plt.hist(prediction[y_test==0], bins=50, label='Negatives')\n",
    "plt.hist(prediction[y_test==1], bins=50, label='Positives', alpha=0.7, color='r')\n",
    "plt.xlabel('Probability of being Positive Class', fontsize=12)\n",
    "plt.ylabel('Number of records in each bucket', fontsize=12)\n",
    "plt.legend(fontsize=15)\n",
    "plt.tick_params(axis='both', labelsize=12, pad=5)\n",
    "plt.show()"
   ]
  },
  {
   "cell_type": "markdown",
   "metadata": {},
   "source": [
    "### Output"
   ]
  },
  {
   "cell_type": "markdown",
   "metadata": {},
   "source": [
    "<ul>\n",
    "    <li>Make sure to put descriptive comments on your code</li>\n",
    "    <li>Use the markdown cell format in Jupiter to add your own interpretation to the result in each section.</li>\n",
    "    <li>Make sure to keep the output of your runs when you want to save the final version of the file.</li>\n",
    "    <li>The final submited file should be very well structured and should have a consistent flow of analysis.</li>\n",
    "    <li>You may want to use an additional word document to report the result of your analysis</li>\n",
    "</ul>"
   ]
  },
  {
   "cell_type": "markdown",
   "metadata": {},
   "source": [
    "#### Due Date: Nov 30 2020 at 11:59 PM"
   ]
  },
  {
   "cell_type": "markdown",
   "metadata": {},
   "source": [
    "<table style=\"width:400px;height:200px;border:1px black solid; background-color:white\">\n",
    "    <tr style=\"background-color:white\">\n",
    "        <th style=\"text-align:left;border:1px black solid\">Comprehensiveness</th>\n",
    "        <td style=\"text-align:center;border:1px black solid\"><b>30%</b></td>\n",
    "    </tr>\n",
    "    <tr style=\"background-color:white\">\n",
    "        <th style=\"text-align:left;border:1px black solid\">Correctness</th>\n",
    "        <td style=\"text-align:center;border:1px black solid\"><b>30%</b></td>\n",
    "    </tr>\n",
    "    <tr style=\"background-color:white\">\n",
    "        <th style=\"text-align:left;border:1px black solid\">Complete Report</th>\n",
    "        <td style=\"text-align:center;border:1px black solid\"><b>20%</b></td>\n",
    "    </tr>\n",
    "    <tr style=\"background-color:white\">\n",
    "        <th style=\"text-align:left;border:1px black solid\">Clear Code</th>\n",
    "        <td style=\"text-align:center;border:1px black solid\"><b>20%</b></td>\n",
    "    </tr>\n",
    "    <tr style=\"background-color:white\">\n",
    "        <th style=\"text-align:center;border:1px black solid;color:red\"><u>Total</u></th>\n",
    "        <td style=\"text-align:center;border:1px black solid;color:red\"><b stlyle=\"color:red\">100%</b></td>\n",
    "    </tr>\n",
    "</table>"
   ]
  }
 ],
 "metadata": {
  "kernelspec": {
   "display_name": "Python 3",
   "language": "python",
   "name": "python3"
  },
  "language_info": {
   "codemirror_mode": {
    "name": "ipython",
    "version": 3
   },
   "file_extension": ".py",
   "mimetype": "text/x-python",
   "name": "python",
   "nbconvert_exporter": "python",
   "pygments_lexer": "ipython3",
   "version": "3.8.3"
  }
 },
 "nbformat": 4,
 "nbformat_minor": 4
}
